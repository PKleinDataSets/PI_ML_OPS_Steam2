{
  "cells": [
    {
      "cell_type": "markdown",
      "metadata": {
        "id": "hYJYDZeabkP5"
      },
      "source": [
        "Debes crear las siguientes funciones para los endpoints que se consumirán en la API, recuerden que deben tener un decorador por cada una (@app.get(‘/’)).\n",
        "\n",
        "def PlayTimeGenre( genero : str ): Debe devolver año con mas horas jugadas para dicho género.\n",
        "Ejemplo de retorno: {\"Año de lanzamiento con más horas jugadas para Género X\" : 2013}\n",
        "\n",
        "def UserForGenre( genero : str ): Debe devolver el usuario que acumula más horas jugadas para el género dado y una lista de la acumulación de horas jugadas por año.\n",
        "\n",
        "Ejemplo de retorno: {\"Usuario con más horas jugadas para Género X\" : us213ndjss09sdf, \"Horas jugadas\":[{Año: 2013, Horas: 203}, {Año: 2012, Horas: 100}, {Año: 2011, Horas: 23}]}\n",
        "\n",
        "def UsersRecommend( año : int ): Devuelve el top 3 de juegos MÁS recomendados por usuarios para el año dado. (reviews.recommend = True y comentarios positivos/neutrales)\n",
        "Ejemplo de retorno: [{\"Puesto 1\" : X}, {\"Puesto 2\" : Y},{\"Puesto 3\" : Z}]\n",
        "\n",
        "def UsersNotRecommend( año : int ): Devuelve el top 3 de juegos MENOS recomendados por usuarios para el año dado. (reviews.recommend = False y comentarios negativos)\n",
        "Ejemplo de retorno: [{\"Puesto 1\" : X}, {\"Puesto 2\" : Y},{\"Puesto 3\" : Z}]\n",
        "\n",
        "def sentiment_analysis( año : int ): Según el año de lanzamiento, se devuelve una lista con la cantidad de registros de reseñas de usuarios que se encuentren categorizados con un análisis de sentimiento.\n",
        "Ejemplo de retorno: {Negative = 182, Neutral = 120, Positive = 278}"
      ]
    },
    {
      "cell_type": "markdown",
      "metadata": {
        "id": "tA41G_P4biaq"
      },
      "source": [
        "-------------------------------------------------------------------"
      ]
    },
    {
      "cell_type": "markdown",
      "metadata": {
        "id": "FtP1nxrXoCNz"
      },
      "source": [
        "# Carga de Librerias"
      ]
    },
    {
      "cell_type": "code",
      "execution_count": 258,
      "metadata": {
        "id": "-DASP_BtiZkh"
      },
      "outputs": [],
      "source": [
        "import pandas as pd\n",
        "\n"
      ]
    },
    {
      "cell_type": "markdown",
      "metadata": {
        "id": "OrHiqzSMn7rc"
      },
      "source": [
        "# Carga de Archivos"
      ]
    },
    {
      "cell_type": "code",
      "execution_count": 259,
      "metadata": {},
      "outputs": [],
      "source": [
        "df_items = pd.read_csv('items.csv',  index_col=False)\n",
        "df_reviews = pd.read_csv('reviews_sa.csv', index_col=False)\n",
        "df_steam = pd.read_csv('steam_games.csv', index_col=False)\n",
        "df_steam_exploded = pd.read_csv('steam_exploded.csv', index_col=False)"
      ]
    },
    {
      "cell_type": "code",
      "execution_count": 260,
      "metadata": {
        "colab": {
          "base_uri": "https://localhost:8080/"
        },
        "id": "GDHmrDifi5SU",
        "outputId": "2a776e0b-98bd-4382-999d-a445a180a3c0"
      },
      "outputs": [
        {
          "name": "stdout",
          "output_type": "stream",
          "text": [
            "Columnas en comun entre reviews  y steam Index(['user_id', 'item_id'], dtype='object')\n",
            "Columnas en comun entre items  y reviews Index(['user_id', 'item_id'], dtype='object')\n",
            "Columnas en comun entre items  y steam Index(['user_id', 'item_id', 'item_name'], dtype='object')\n"
          ]
        }
      ],
      "source": [
        "columnas_comunes_1 = df_reviews.columns.intersection(df_steam.columns)\n",
        "\n",
        "print('Columnas en comun entre reviews  y steam', columnas_comunes_1)\n",
        "\n",
        "columnas_comunes_2 = df_items.columns.intersection(df_reviews.columns)\n",
        "print('Columnas en comun entre items  y reviews', columnas_comunes_2)\n",
        "\n",
        "columnas_comunes_3 = df_items.columns.intersection(df_steam.columns)\n",
        "print('Columnas en comun entre items  y steam',columnas_comunes_3)\n",
        "\n"
      ]
    },
    {
      "cell_type": "code",
      "execution_count": 136,
      "metadata": {
        "id": "IMiLywG62Sb4"
      },
      "outputs": [],
      "source": [
        "gf = df_steam_exploded[df_steam_exploded['genres'] == 'Simulation']\n",
        "m = gf.merge(df_items, on=['item_name'], how='left').dropna(subset = ['playtime_forever']).drop_duplicates()"
      ]
    },
    {
      "cell_type": "markdown",
      "metadata": {
        "id": "kM5Sh_r9oIMk"
      },
      "source": [
        "### def PlayTimeGenre( genero : str ): Debe devolver año con mas horas jugadas para dicho género. Ejemplo de retorno: {\"Año de lanzamiento con más horas jugadas para Género X\" : 2013}"
      ]
    },
    {
      "cell_type": "code",
      "execution_count": 261,
      "metadata": {
        "id": "ffxm5_CXnBPE"
      },
      "outputs": [],
      "source": [
        "import pandas as pd\n",
        "\n",
        "def PlayTimeGenre(genero: str):\n",
        "    # Filtrar juegos del género especificado\n",
        "    gf = df_steam_exploded[df_steam_exploded['genres'] == genero]\n",
        "\n",
        "    if gf.empty:\n",
        "        return {\"No se encontraron juegos para el género especificado\": None}\n",
        "\n",
        "    # Realizar un left join para mantener todas las filas de gf y luego eliminar filas con playtime_forever NaN\n",
        "    m = gf.merge(df_items, on=['item_name'], how='left').dropna(subset=['playtime_forever']).drop_duplicates()\n",
        "\n",
        "    # Convertir la columna 'release_date' a tipo datetime\n",
        "    m['release_date'] = pd.to_datetime(m['release_date'], errors='coerce')\n",
        "\n",
        "    # Agrupar por año de lanzamiento y calcular el tiempo total de juego por año\n",
        "    year_playtime = m.groupby(m['release_date'].dt.year)['playtime_forever'].sum()\n",
        "\n",
        "    # Encontrar el año con más horas jugadas\n",
        "    max_playtime_year = year_playtime.idxmax()\n",
        "\n",
        "    return {\"Año de lanzamiento con más horas jugadas para el género \" + genero: int(max_playtime_year)}\n"
      ]
    },
    {
      "cell_type": "markdown",
      "metadata": {},
      "source": [
        "#### Probamos la funcion PlayTimeGenre"
      ]
    },
    {
      "cell_type": "code",
      "execution_count": 262,
      "metadata": {
        "colab": {
          "base_uri": "https://localhost:8080/"
        },
        "id": "8dExxEE2-IdD",
        "outputId": "6b427a67-f504-48df-c3eb-5ebcb3773f63"
      },
      "outputs": [
        {
          "name": "stdout",
          "output_type": "stream",
          "text": [
            "{'Año de lanzamiento con más horas jugadas para el género Action': 2012}\n",
            "{'Año de lanzamiento con más horas jugadas para el género Simulation': 2006}\n"
          ]
        }
      ],
      "source": [
        "# Llamar a la función con un género específico, por ejemplo, \"Action\"\n",
        "result = PlayTimeGenre(\"Action\")\n",
        "print(result)\n",
        "\n",
        "result = PlayTimeGenre(\"Simulation\")\n",
        "print(result)"
      ]
    },
    {
      "cell_type": "code",
      "execution_count": 142,
      "metadata": {
        "id": "WeQb7bq2SEj_"
      },
      "outputs": [],
      "source": [
        "gf = df_steam_exploded[df_steam_exploded['genres'] == 'Action']\n",
        "m = gf.merge(df_items, on=['item_name'], how='left').dropna(subset=['playtime_forever']).drop_duplicates()\n"
      ]
    },
    {
      "cell_type": "markdown",
      "metadata": {},
      "source": [
        "#### def UserForGenre( genero : str ): Debe devolver el usuario que acumula más horas jugadas para el género dado y una lista de la acumulación de horas jugadas por año.\n",
        "\n",
        "#### Ejemplo de retorno: {\"Usuario con más horas jugadas para Género X\" : us213ndjss09sdf, \"Horas jugadas\":[{Año: 2013, Horas: 203}, {Año: 2012, Horas: 100}, {Año: 2011, Horas: 23}]}"
      ]
    },
    {
      "cell_type": "code",
      "execution_count": 265,
      "metadata": {
        "colab": {
          "base_uri": "https://localhost:8080/"
        },
        "id": "vojLSBkvePZc",
        "outputId": "afa2778c-a036-4562-9932-187b1eced4d9"
      },
      "outputs": [],
      "source": [
        "import pandas as pd\n",
        "\n",
        "def UserForGenre(genero: str):\n",
        "    # Filtrar juegos del género especificado\n",
        "    gf = df_steam_exploded[df_steam_exploded['genres'] == genero]\n",
        "\n",
        "    if gf.empty:\n",
        "        return {\"No se encontraron juegos para el género especificado\": None, \"Horas jugadas por año\": {}}\n",
        "\n",
        "    # Realizar un left join para mantener todas las filas de gf y luego eliminar filas con playtime_forever NaN\n",
        "    m = gf.merge(df_items, on=['item_name'], how='left').dropna(subset=['playtime_forever']).drop_duplicates()\n",
        "\n",
        "    # Convertir la columna 'release_date' a tipo datetime\n",
        "    m['release_date'] = pd.to_datetime(m['release_date'], errors='coerce')\n",
        "\n",
        "    # Agrupar por usuario y calcular el tiempo total de juego por usuario\n",
        "    user_playtime = m.groupby('user_id_y')['playtime_forever'].sum()\n",
        "\n",
        "    # Encontrar el usuario con más horas jugadas en ese género\n",
        "    max_playtime_user = user_playtime.idxmax()\n",
        "\n",
        "    # Filtrar el DataFrame para el usuario con más horas jugadas\n",
        "    user_max_playtime = m[m['user_id_y'] == max_playtime_user]\n",
        "\n",
        "    # Calcular la acumulación de horas jugadas por año para ese usuario\n",
        "    year_playtime = user_max_playtime.groupby(user_max_playtime['release_date'].dt.year)['playtime_forever'].sum()\n",
        "\n",
        "    # Crear la lista de acumulación de horas jugadas por año en el formato especificado\n",
        "    horas_por_anio = [{\"Año\": int(year), \"Horas\": int(hours)} for year, hours in year_playtime.items()]\n",
        "\n",
        "    return {\"Usuario con más horas jugadas para el género \" + genero: max_playtime_user, \"Horas jugadas por año\": horas_por_anio}\n",
        "\n"
      ]
    },
    {
      "cell_type": "markdown",
      "metadata": {},
      "source": [
        "#### Probamos la funcion UserForGenre"
      ]
    },
    {
      "cell_type": "code",
      "execution_count": 267,
      "metadata": {},
      "outputs": [
        {
          "name": "stdout",
          "output_type": "stream",
          "text": [
            "{'Usuario con más horas jugadas para el género Simulation': 'jimmynoe', 'Horas jugadas por año': [{'Año': 2006, 'Horas': 551719}, {'Año': 2009, 'Horas': 15}, {'Año': 2011, 'Horas': 418043}, {'Año': 2012, 'Horas': 1592}, {'Año': 2013, 'Horas': 1751}, {'Año': 2014, 'Horas': 839}, {'Año': 2015, 'Horas': 73812}, {'Año': 2016, 'Horas': 14349}]}\n",
            "{'Usuario con más horas jugadas para el género Strategy': 'shinomegami', 'Horas jugadas por año': [{'Año': 1993, 'Horas': 22001}, {'Año': 1999, 'Horas': 14}, {'Año': 2001, 'Horas': 2}, {'Año': 2002, 'Horas': 2434}, {'Año': 2003, 'Horas': 531614}, {'Año': 2004, 'Horas': 76}, {'Año': 2007, 'Horas': 68627}, {'Año': 2008, 'Horas': 356}, {'Año': 2009, 'Horas': 8434}, {'Año': 2010, 'Horas': 13733}, {'Año': 2011, 'Horas': 6882}, {'Año': 2012, 'Horas': 79098}, {'Año': 2013, 'Horas': 139630}, {'Año': 2014, 'Horas': 124901}, {'Año': 2015, 'Horas': 3270}, {'Año': 2016, 'Horas': 1379}]}\n",
            "{'Usuario con más horas jugadas para el género Action': 'shinomegami', 'Horas jugadas por año': [{'Año': 1988, 'Horas': 136}, {'Año': 1995, 'Horas': 2}, {'Año': 1996, 'Horas': 1161}, {'Año': 1997, 'Horas': 99}, {'Año': 1998, 'Horas': 3716}, {'Año': 1999, 'Horas': 303}, {'Año': 2000, 'Horas': 10775}, {'Año': 2001, 'Horas': 2429}, {'Año': 2003, 'Horas': 532756}, {'Año': 2004, 'Horas': 120}, {'Año': 2005, 'Horas': 343}, {'Año': 2006, 'Horas': 2043}, {'Año': 2007, 'Horas': 68354}, {'Año': 2008, 'Horas': 180}, {'Año': 2009, 'Horas': 209805}, {'Año': 2010, 'Horas': 9405}, {'Año': 2011, 'Horas': 89382}, {'Año': 2012, 'Horas': 18284}, {'Año': 2013, 'Horas': 148625}, {'Año': 2014, 'Horas': 92080}, {'Año': 2015, 'Horas': 102197}, {'Año': 2016, 'Horas': 42563}, {'Año': 2017, 'Horas': 135}]}\n"
          ]
        }
      ],
      "source": [
        "result = UserForGenre(\"Simulation\")\n",
        "print(result)\n",
        "\n",
        "result = UserForGenre(\"Strategy\")\n",
        "print(result)\n",
        "\n",
        "result = UserForGenre(\"Action\")\n",
        "print(result)"
      ]
    },
    {
      "cell_type": "markdown",
      "metadata": {
        "id": "c0w8cq4GR9LV"
      },
      "source": [
        "##### def UsersRecommend( año : int ): Devuelve el top 3 de juegos MÁS recomendados por usuarios para el año dado. (reviews.recommend = True y comentarios positivos/neutrales)\n",
        "##### Ejemplo de retorno: [{\"Puesto 1\" : X}, {\"Puesto 2\" : Y},{\"Puesto 3\" : Z}]"
      ]
    },
    {
      "cell_type": "code",
      "execution_count": 269,
      "metadata": {
        "id": "udaYJdwgJUIv"
      },
      "outputs": [],
      "source": [
        "import pandas as pd\n",
        "\n",
        "def UsersRecommend(anio: int):\n",
        "    # Filtrar las revisiones para el año dado y donde recommend sea True y el sentimiento sea positivo o neutral\n",
        "    reviews_filtered = df_reviews[(df_reviews['posted'].str[-4:] == str(anio)) & \\\n",
        "     (df_reviews['recommend'] == True) & (df_reviews['sentiment_analysis']> 0)]#.isin([1, 2]))]\n",
        "\n",
        "    # Realizar un merge para obtener los nombres de los juegos\n",
        "    merged_reviews = reviews_filtered.merge(df_steam[['item_id', 'item_name']], on='item_id', how='left')\n",
        "\n",
        "\n",
        "    # Agrupar por item_name y contar las revisiones para cada juego\n",
        "    game_counts = merged_reviews.groupby('item_name')['recommend'].count().reset_index()\n",
        "\n",
        "    # Ordenar los juegos por la cantidad de revisiones en orden descendente\n",
        "    top_games = game_counts.sort_values(by='recommend', ascending=False)\n",
        "\n",
        "    # Tomar los 3 juegos principales\n",
        "    top_3_games = top_games.head(3)\n",
        "\n",
        "    # Crear la lista de retorno con el formato especificado\n",
        "    result = [{\"Puesto {}: \".format(i + 1): game} for i, game in enumerate(top_3_games['item_name'])]\n",
        "\n",
        "    return result\n"
      ]
    },
    {
      "cell_type": "markdown",
      "metadata": {},
      "source": [
        "##### Probamos la funcion UsersRecommend"
      ]
    },
    {
      "cell_type": "code",
      "execution_count": 152,
      "metadata": {
        "colab": {
          "base_uri": "https://localhost:8080/"
        },
        "id": "F0-ovbaUJViO",
        "outputId": "73e79ed4-18a8-483f-a796-5a3b777f19a0"
      },
      "outputs": [
        {
          "name": "stdout",
          "output_type": "stream",
          "text": [
            "Año 2009 : []\n",
            "Año 2010 : [{'Puesto 1: ': 'Team Fortress 2'}, {'Puesto 2: ': 'Killing Floor'}, {'Puesto 3: ': 'Alien Swarm'}]\n",
            "Año 2011 : [{'Puesto 1: ': 'Team Fortress 2'}, {'Puesto 2: ': 'Portal 2'}, {'Puesto 3: ': 'Terraria'}]\n",
            "Año 2012 : [{'Puesto 1: ': 'Team Fortress 2'}, {'Puesto 2: ': 'Terraria'}, {'Puesto 3: ': \"Garry's Mod\"}]\n"
          ]
        },
        {
          "name": "stdout",
          "output_type": "stream",
          "text": [
            "Año 2013 : [{'Puesto 1: ': 'Team Fortress 2'}, {'Puesto 2: ': \"Garry's Mod\"}, {'Puesto 3: ': 'Left 4 Dead 2'}]\n",
            "Año 2014 : [{'Puesto 1: ': 'Team Fortress 2'}, {'Puesto 2: ': 'Counter-Strike: Global Offensive'}, {'Puesto 3: ': \"Garry's Mod\"}]\n",
            "Año 2015 : [{'Puesto 1: ': 'Counter-Strike: Global Offensive'}, {'Puesto 2: ': 'Team Fortress 2'}, {'Puesto 3: ': \"Garry's Mod\"}]\n",
            "Año 2016 : []\n"
          ]
        }
      ],
      "source": [
        "for i in range(2009, 2017):\n",
        "  print(f'Año {i} : {UsersRecommend(i)}')"
      ]
    },
    {
      "cell_type": "markdown",
      "metadata": {
        "id": "AvAc8nlTKeSW"
      },
      "source": [
        "##### def UsersNotRecommend( año : int ): Devuelve el top 3 de juegos MENOS recomendados por usuarios para el año dado. (reviews.recommend = False y comentarios negativos) Ejemplo de retorno: [{\"Puesto 1\" : X}, {\"Puesto 2\" : Y},{\"Puesto 3\" : Z}]"
      ]
    },
    {
      "cell_type": "code",
      "execution_count": 153,
      "metadata": {
        "id": "LqwjuQzJJZv0"
      },
      "outputs": [],
      "source": [
        "def UsersNotRecommend(anio: int):\n",
        "    # Filtrar las revisiones para el año dado, donde recommend sea False y el sentimiento sea negativo\n",
        "    reviews_filtered = df_reviews[(df_reviews['posted'].str[-4:] == str(anio)) & \\\n",
        "                                  (df_reviews['recommend'] == False) & (df_reviews['sentiment_analysis'] == 0)]\n",
        "\n",
        "    # Realizar un merge para obtener los nombres de los juegos\n",
        "    merged_reviews = reviews_filtered.merge(df_steam[['item_id', 'item_name']], on='item_id', how='left')\n",
        "\n",
        "    # Agrupar por item_name y contar las revisiones para cada juego\n",
        "    game_counts = merged_reviews.groupby('item_name')['recommend'].count().reset_index()\n",
        "\n",
        "    # Ordenar los juegos por la cantidad de revisiones en orden descendente\n",
        "    bottom_games = game_counts.sort_values(by='recommend', ascending=True)\n",
        "\n",
        "    # Tomar los 3 juegos menos recomendados\n",
        "    bottom_3_games = bottom_games.head(3)\n",
        "\n",
        "    # Crear la lista de retorno con el formato especificado\n",
        "    result = [{\"Puesto {}: \".format(i + 1): game} for i, game in enumerate(bottom_3_games['item_name'])]\n",
        "\n",
        "    return result\n"
      ]
    },
    {
      "cell_type": "markdown",
      "metadata": {},
      "source": [
        "##### Probamos la funcion  UsersNotRecommend"
      ]
    },
    {
      "cell_type": "code",
      "execution_count": 273,
      "metadata": {
        "id": "wuVGc0TCL9wt"
      },
      "outputs": [
        {
          "name": "stdout",
          "output_type": "stream",
          "text": [
            "Año 2010 : []\n",
            "Año 2011 : [{'Puesto 1: ': 'Men of War: Vietnam'}, {'Puesto 2: ': 'Team Fortress 2'}, {'Puesto 3: ': 'And Yet It Moves'}]\n",
            "Año 2012 : [{'Puesto 1: ': 'Call of Duty®: Black Ops II'}, {'Puesto 2: ': 'Red Faction®: Armageddon™'}, {'Puesto 3: ': 'Resident Evil: Operation Raccoon City'}]\n",
            "Año 2013 : [{'Puesto 1: ': 'A.V.A. Alliance of Valiant Arms™'}, {'Puesto 2: ': 'Warframe'}, {'Puesto 3: ': 'Nether: Resurrected'}]\n",
            "Año 2014 : [{'Puesto 1: ': 'Mabinogi'}, {'Puesto 2: ': 'NEOTOKYO'}, {'Puesto 3: ': 'Napoleon: Total War™'}]\n",
            "Año 2015 : [{'Puesto 1: ': '100% Orange Juice'}, {'Puesto 2: ': 'Morphopolis'}, {'Puesto 3: ': 'Miscreated'}]\n",
            "Año 2016 : []\n"
          ]
        }
      ],
      "source": [
        "for i in range(2010, 2017):\n",
        "    # do something\n",
        "  print(f'Año {i} : {UsersNotRecommend(i)}')"
      ]
    },
    {
      "cell_type": "markdown",
      "metadata": {
        "id": "-UmGb5tYOIEK"
      },
      "source": [
        "##### def sentiment_analysis( año : int ): Según el año de lanzamiento, se devuelve una lista con la cantidad de registros de reseñas de usuarios que se encuentren categorizados con un análisis de sentimiento. Ejemplo de retorno: {Negative = 182, Neutral = 120, Positive = 278}\n"
      ]
    },
    {
      "cell_type": "code",
      "execution_count": 274,
      "metadata": {},
      "outputs": [],
      "source": [
        "def sentiment_analysis(anio: int):\n",
        "    # Filtrar las revisiones para el año de lanzamiento dado\n",
        "    reviews_filtered = df_steam[df_steam['release_date'].str[:4] == str(anio)]\n",
        "\n",
        "    # Realizar un merge entre las revisiones filtradas y df_reviews para obtener el análisis de sentimiento\n",
        "    merged_reviews = reviews_filtered.merge(df_reviews[['item_id', 'sentiment_analysis']], on='item_id', how='left')\n",
        "\n",
        "    # Contar las revisiones con análisis de sentimiento y agrupar por categoría de sentimiento\n",
        "    sentiment_counts = merged_reviews['sentiment_analysis'].value_counts()\n",
        "\n",
        "    # Crear un diccionario con las categorías de sentimiento y sus conteos\n",
        "    result = {}\n",
        "    for sentiment_category, count in sentiment_counts.items():\n",
        "        result[str(sentiment_category)] = count\n",
        "\n",
        "    # Verificar si no hay reseñas para el año y establecer todos los valores en 0\n",
        "    if not result:\n",
        "        result = {'0.0': 0, '1.0': 0, '2.0': 0}\n",
        "\n",
        "    new_result = {'Negative': result.get('0.0', 0), 'Neutral': result.get('1.0', 0), 'Positive': result.get('2.0', 0)}\n",
        "\n",
        "    return new_result"
      ]
    },
    {
      "cell_type": "code",
      "execution_count": 275,
      "metadata": {},
      "outputs": [
        {
          "name": "stdout",
          "output_type": "stream",
          "text": [
            "Año 1995 : {'Negative': 5, 'Neutral': 0, 'Positive': 10}\n",
            "Año 1996 : {'Negative': 0, 'Neutral': 2, 'Positive': 1}\n",
            "Año 1997 : {'Negative': 6, 'Neutral': 6, 'Positive': 29}\n",
            "Año 1998 : {'Negative': 16, 'Neutral': 12, 'Positive': 54}\n",
            "Año 1999 : {'Negative': 6, 'Neutral': 11, 'Positive': 23}\n",
            "Año 2000 : {'Negative': 8, 'Neutral': 25, 'Positive': 54}\n",
            "Año 2001 : {'Negative': 8, 'Neutral': 2, 'Positive': 17}\n",
            "Año 2002 : {'Negative': 6, 'Neutral': 4, 'Positive': 27}\n",
            "Año 2003 : {'Negative': 41, 'Neutral': 42, 'Positive': 103}\n",
            "Año 2004 : {'Negative': 62, 'Neutral': 115, 'Positive': 324}\n",
            "Año 2005 : {'Negative': 34, 'Neutral': 51, 'Positive': 169}\n",
            "Año 2006 : {'Negative': 211, 'Neutral': 417, 'Positive': 1207}\n",
            "Año 2007 : {'Negative': 348, 'Neutral': 934, 'Positive': 2527}\n",
            "Año 2008 : {'Negative': 48, 'Neutral': 71, 'Positive': 275}\n",
            "Año 2009 : {'Negative': 294, 'Neutral': 414, 'Positive': 1079}\n",
            "Año 2010 : {'Negative': 278, 'Neutral': 314, 'Positive': 1193}\n",
            "Año 2011 : {'Negative': 413, 'Neutral': 646, 'Positive': 2067}\n",
            "Año 2012 : {'Negative': 1185, 'Neutral': 1587, 'Positive': 4929}\n",
            "Año 2013 : {'Negative': 1062, 'Neutral': 1261, 'Positive': 4338}\n",
            "Año 2014 : {'Negative': 1001, 'Neutral': 1005, 'Positive': 3409}\n",
            "Año 2015 : {'Negative': 826, 'Neutral': 858, 'Positive': 2769}\n",
            "Año 2016 : {'Negative': 162, 'Neutral': 164, 'Positive': 716}\n",
            "Año 2017 : {'Negative': 259, 'Neutral': 333, 'Positive': 985}\n",
            "Año 2018 : {'Negative': 0, 'Neutral': 0, 'Positive': 0}\n",
            "Año 2019 : {'Negative': 0, 'Neutral': 0, 'Positive': 0}\n"
          ]
        }
      ],
      "source": [
        "for i in range(1995, 2020):\n",
        "  print(f'Año {i} : {sentiment_analysis(i)}')"
      ]
    },
    {
      "cell_type": "markdown",
      "metadata": {},
      "source": [
        "Modelo de aprendizaje automático:\n",
        "\n",
        "Una vez que toda la data es consumible por la API, está lista para consumir por los departamentos de Analytics y Machine Learning, y nuestro EDA nos permite entender bien los datos a los que tenemos acceso, es hora de entrenar nuestro modelo de machine learning para armar un sistema de recomendación. Para ello, te ofrecen dos propuestas de trabajo: En la primera, el modelo deberá tener una relación ítem-ítem, esto es se toma un item, en base a que tan similar esa ese ítem al resto, se recomiendan similares. Aquí el input es un juego y el output es una lista de juegos recomendados, para ello recomendamos aplicar la similitud del coseno. La otra propuesta para el sistema de recomendación debe aplicar el filtro user-item, esto es tomar un usuario, se encuentran usuarios similares y se recomiendan ítems que a esos usuarios similares les gustaron. En este caso el input es un usuario y el output es una lista de juegos que se le recomienda a ese usuario, en general se explican como “A usuarios que son similares a tí también les gustó…”. Deben crear al menos uno de los dos sistemas de recomendación (Si se atreven a tomar el desafío, para mostrar su capacidad al equipo, ¡pueden hacer ambos!). Tu líder pide que el modelo derive obligatoriamente en un GET/POST en la API símil al siguiente formato:\n",
        "\n",
        "Si es un sistema de recomendación item-item:\n",
        "\n",
        "def recomendacion_juego( id de producto ): Ingresando el id de producto, deberíamos recibir una lista con 5 juegos recomendados similares al ingresado.\n",
        "Si es un sistema de recomendación user-item:\n",
        "\n",
        "def recomendacion_usuario( id de usuario ): Ingresando el id de un usuario, deberíamos recibir una lista con 5 juegos recomendados para dicho usuario."
      ]
    },
    {
      "cell_type": "markdown",
      "metadata": {},
      "source": [
        "Dataframe que voy a usar : reviews , utilizaré las recomendaciones , de usuarios que recomendaron los mismos juegos para recomendar juegos , en base al analisis de sentimiento de la review del usuario"
      ]
    },
    {
      "cell_type": "code",
      "execution_count": 277,
      "metadata": {},
      "outputs": [
        {
          "name": "stdout",
          "output_type": "stream",
          "text": [
            "<class 'pandas.core.frame.DataFrame'>\n",
            "RangeIndex: 48498 entries, 0 to 48497\n",
            "Data columns (total 5 columns):\n",
            " #   Column              Non-Null Count  Dtype \n",
            "---  ------              --------------  ----- \n",
            " 0   user_id             48498 non-null  object\n",
            " 1   posted              48498 non-null  object\n",
            " 2   item_id             48498 non-null  int64 \n",
            " 3   recommend           48498 non-null  bool  \n",
            " 4   sentiment_analysis  48498 non-null  int64 \n",
            "dtypes: bool(1), int64(2), object(2)\n",
            "memory usage: 1.5+ MB\n"
          ]
        }
      ],
      "source": [
        "df_reviews.info()"
      ]
    },
    {
      "cell_type": "code",
      "execution_count": 283,
      "metadata": {},
      "outputs": [
        {
          "data": {
            "text/html": [
              "<div>\n",
              "<style scoped>\n",
              "    .dataframe tbody tr th:only-of-type {\n",
              "        vertical-align: middle;\n",
              "    }\n",
              "\n",
              "    .dataframe tbody tr th {\n",
              "        vertical-align: top;\n",
              "    }\n",
              "\n",
              "    .dataframe thead th {\n",
              "        text-align: right;\n",
              "    }\n",
              "</style>\n",
              "<table border=\"1\" class=\"dataframe\">\n",
              "  <thead>\n",
              "    <tr style=\"text-align: right;\">\n",
              "      <th></th>\n",
              "      <th>user_id</th>\n",
              "      <th>posted</th>\n",
              "      <th>item_id</th>\n",
              "      <th>recommend</th>\n",
              "      <th>sentiment_analysis</th>\n",
              "    </tr>\n",
              "  </thead>\n",
              "  <tbody>\n",
              "    <tr>\n",
              "      <th>0</th>\n",
              "      <td>76561197970982479</td>\n",
              "      <td>05-11-2011</td>\n",
              "      <td>1250</td>\n",
              "      <td>True</td>\n",
              "      <td>2</td>\n",
              "    </tr>\n",
              "    <tr>\n",
              "      <th>1</th>\n",
              "      <td>76561197970982479</td>\n",
              "      <td>15-07-2011</td>\n",
              "      <td>22200</td>\n",
              "      <td>True</td>\n",
              "      <td>2</td>\n",
              "    </tr>\n",
              "    <tr>\n",
              "      <th>2</th>\n",
              "      <td>76561197970982479</td>\n",
              "      <td>21-04-2011</td>\n",
              "      <td>43110</td>\n",
              "      <td>True</td>\n",
              "      <td>2</td>\n",
              "    </tr>\n",
              "    <tr>\n",
              "      <th>3</th>\n",
              "      <td>js41637</td>\n",
              "      <td>24-06-2014</td>\n",
              "      <td>251610</td>\n",
              "      <td>True</td>\n",
              "      <td>2</td>\n",
              "    </tr>\n",
              "    <tr>\n",
              "      <th>4</th>\n",
              "      <td>js41637</td>\n",
              "      <td>08-09-2013</td>\n",
              "      <td>227300</td>\n",
              "      <td>True</td>\n",
              "      <td>2</td>\n",
              "    </tr>\n",
              "  </tbody>\n",
              "</table>\n",
              "</div>"
            ],
            "text/plain": [
              "             user_id      posted  item_id  recommend  sentiment_analysis\n",
              "0  76561197970982479  05-11-2011     1250       True                   2\n",
              "1  76561197970982479  15-07-2011    22200       True                   2\n",
              "2  76561197970982479  21-04-2011    43110       True                   2\n",
              "3            js41637  24-06-2014   251610       True                   2\n",
              "4            js41637  08-09-2013   227300       True                   2"
            ]
          },
          "execution_count": 283,
          "metadata": {},
          "output_type": "execute_result"
        }
      ],
      "source": [
        "df_reviews.head()"
      ]
    },
    {
      "cell_type": "markdown",
      "metadata": {},
      "source": [
        "Por una cuestion de recursos computacionales , voy a utilizar solo los primeros 10000 datos"
      ]
    },
    {
      "cell_type": "markdown",
      "metadata": {},
      "source": [
        "Los voy a mezclar , y luego crear una tabla pivote con python y luego calcular la similitud del coseno , que mide la distancia angular entre vectores"
      ]
    },
    {
      "cell_type": "code",
      "execution_count": 293,
      "metadata": {},
      "outputs": [],
      "source": [
        "\n",
        "df_reviews_shuffled = df_reviews.head(10000)\n",
        "df_reviews_shuffled = df_reviews_shuffled.sample(frac=1, random_state=42) \n",
        "\n",
        "from sklearn.metrics.pairwise import cosine_similarity\n",
        "\n",
        "# Crear una matriz de usuarios como características y juegos como filas\n",
        "user_item_matrix = df_reviews_shuffled.pivot_table(index='user_id', columns='item_id', values='sentiment_analysis').fillna(0)\n",
        "\n",
        "# Calcular la similitud entre usuarios usando la similitud del coseno\n",
        "user_similarity = cosine_similarity(user_item_matrix)"
      ]
    },
    {
      "cell_type": "markdown",
      "metadata": {},
      "source": [
        "df_reviews_shuffled.head()"
      ]
    },
    {
      "cell_type": "code",
      "execution_count": 294,
      "metadata": {},
      "outputs": [],
      "source": [
        "def recomendacion_usuario(user_id):\n",
        "    # Obtener la fila correspondiente al usuario ingresado\n",
        "    user_vector = user_item_matrix.loc[user_id].values.reshape(1, -1)\n",
        "    \n",
        "    # Calcular la similitud entre el usuario ingresado y todos los demás usuarios\n",
        "    similarities = cosine_similarity(user_vector, user_item_matrix)\n",
        "    \n",
        "    # Obtener los juegos que los usuarios similares a 'user_id' han disfrutado\n",
        "    user_reviews = user_item_matrix.loc[user_id]\n",
        "    similar_users = df_reviews['user_id'][similarities.argsort()[0][-6:-1]]\n",
        "    recommended_items = user_item_matrix.loc[similar_users].mean(axis=0).sort_values(ascending=False)\n",
        "    \n",
        "    # Filtrar los juegos que el usuario ya ha jugado\n",
        "    recommended_items = recommended_items[recommended_items.index.isin(user_reviews[user_reviews == 0].index)]\n",
        "    \n",
        "    return recommended_items.index.tolist()[:5]"
      ]
    },
    {
      "cell_type": "code",
      "execution_count": 296,
      "metadata": {},
      "outputs": [
        {
          "data": {
            "text/html": [
              "<div>\n",
              "<style scoped>\n",
              "    .dataframe tbody tr th:only-of-type {\n",
              "        vertical-align: middle;\n",
              "    }\n",
              "\n",
              "    .dataframe tbody tr th {\n",
              "        vertical-align: top;\n",
              "    }\n",
              "\n",
              "    .dataframe thead th {\n",
              "        text-align: right;\n",
              "    }\n",
              "</style>\n",
              "<table border=\"1\" class=\"dataframe\">\n",
              "  <thead>\n",
              "    <tr style=\"text-align: right;\">\n",
              "      <th></th>\n",
              "      <th>user_id</th>\n",
              "      <th>posted</th>\n",
              "      <th>item_id</th>\n",
              "      <th>recommend</th>\n",
              "      <th>sentiment_analysis</th>\n",
              "    </tr>\n",
              "  </thead>\n",
              "  <tbody>\n",
              "    <tr>\n",
              "      <th>6252</th>\n",
              "      <td>barbas1</td>\n",
              "      <td>26-10-2013</td>\n",
              "      <td>4000</td>\n",
              "      <td>True</td>\n",
              "      <td>2</td>\n",
              "    </tr>\n",
              "    <tr>\n",
              "      <th>4684</th>\n",
              "      <td>76561198056212336</td>\n",
              "      <td>26-11-2013</td>\n",
              "      <td>236850</td>\n",
              "      <td>True</td>\n",
              "      <td>2</td>\n",
              "    </tr>\n",
              "    <tr>\n",
              "      <th>1731</th>\n",
              "      <td>76561198103524411</td>\n",
              "      <td>24-07-2014</td>\n",
              "      <td>200510</td>\n",
              "      <td>True</td>\n",
              "      <td>2</td>\n",
              "    </tr>\n",
              "  </tbody>\n",
              "</table>\n",
              "</div>"
            ],
            "text/plain": [
              "                user_id      posted  item_id  recommend  sentiment_analysis\n",
              "6252            barbas1  26-10-2013     4000       True                   2\n",
              "4684  76561198056212336  26-11-2013   236850       True                   2\n",
              "1731  76561198103524411  24-07-2014   200510       True                   2"
            ]
          },
          "execution_count": 296,
          "metadata": {},
          "output_type": "execute_result"
        }
      ],
      "source": [
        "df_reviews_shuffled.head(3)"
      ]
    },
    {
      "cell_type": "code",
      "execution_count": 297,
      "metadata": {},
      "outputs": [
        {
          "data": {
            "text/html": [
              "<div>\n",
              "<style scoped>\n",
              "    .dataframe tbody tr th:only-of-type {\n",
              "        vertical-align: middle;\n",
              "    }\n",
              "\n",
              "    .dataframe tbody tr th {\n",
              "        vertical-align: top;\n",
              "    }\n",
              "\n",
              "    .dataframe thead th {\n",
              "        text-align: right;\n",
              "    }\n",
              "</style>\n",
              "<table border=\"1\" class=\"dataframe\">\n",
              "  <thead>\n",
              "    <tr style=\"text-align: right;\">\n",
              "      <th></th>\n",
              "      <th>user_id</th>\n",
              "      <th>posted</th>\n",
              "      <th>item_id</th>\n",
              "      <th>recommend</th>\n",
              "      <th>sentiment_analysis</th>\n",
              "    </tr>\n",
              "  </thead>\n",
              "  <tbody>\n",
              "    <tr>\n",
              "      <th>5734</th>\n",
              "      <td>UniIsBestWaifu</td>\n",
              "      <td>24-09-2015</td>\n",
              "      <td>333980</td>\n",
              "      <td>True</td>\n",
              "      <td>2</td>\n",
              "    </tr>\n",
              "    <tr>\n",
              "      <th>5191</th>\n",
              "      <td>Z1_M4N</td>\n",
              "      <td>26-07-2012</td>\n",
              "      <td>105600</td>\n",
              "      <td>True</td>\n",
              "      <td>2</td>\n",
              "    </tr>\n",
              "    <tr>\n",
              "      <th>5390</th>\n",
              "      <td>76561198080889775</td>\n",
              "      <td>22-05-2014</td>\n",
              "      <td>34330</td>\n",
              "      <td>True</td>\n",
              "      <td>1</td>\n",
              "    </tr>\n",
              "    <tr>\n",
              "      <th>860</th>\n",
              "      <td>bobseagull</td>\n",
              "      <td>07-05-2014</td>\n",
              "      <td>49520</td>\n",
              "      <td>True</td>\n",
              "      <td>0</td>\n",
              "    </tr>\n",
              "    <tr>\n",
              "      <th>7270</th>\n",
              "      <td>76561197996426485</td>\n",
              "      <td>17-10-2014</td>\n",
              "      <td>241930</td>\n",
              "      <td>True</td>\n",
              "      <td>2</td>\n",
              "    </tr>\n",
              "  </tbody>\n",
              "</table>\n",
              "</div>"
            ],
            "text/plain": [
              "                user_id      posted  item_id  recommend  sentiment_analysis\n",
              "5734     UniIsBestWaifu  24-09-2015   333980       True                   2\n",
              "5191             Z1_M4N  26-07-2012   105600       True                   2\n",
              "5390  76561198080889775  22-05-2014    34330       True                   1\n",
              "860          bobseagull  07-05-2014    49520       True                   0\n",
              "7270  76561197996426485  17-10-2014   241930       True                   2"
            ]
          },
          "execution_count": 297,
          "metadata": {},
          "output_type": "execute_result"
        }
      ],
      "source": [
        "df_reviews_shuffled.tail()"
      ]
    },
    {
      "cell_type": "code",
      "execution_count": 298,
      "metadata": {},
      "outputs": [
        {
          "data": {
            "text/plain": [
              "[440, 10680, 239220, 202170, 236370]"
            ]
          },
          "execution_count": 298,
          "metadata": {},
          "output_type": "execute_result"
        }
      ],
      "source": [
        "recomendacion_usuario('barbas1')"
      ]
    },
    {
      "cell_type": "code",
      "execution_count": 299,
      "metadata": {},
      "outputs": [
        {
          "data": {
            "text/html": [
              "<div>\n",
              "<style scoped>\n",
              "    .dataframe tbody tr th:only-of-type {\n",
              "        vertical-align: middle;\n",
              "    }\n",
              "\n",
              "    .dataframe tbody tr th {\n",
              "        vertical-align: top;\n",
              "    }\n",
              "\n",
              "    .dataframe thead th {\n",
              "        text-align: right;\n",
              "    }\n",
              "</style>\n",
              "<table border=\"1\" class=\"dataframe\">\n",
              "  <thead>\n",
              "    <tr style=\"text-align: right;\">\n",
              "      <th></th>\n",
              "      <th>user_id</th>\n",
              "      <th>posted</th>\n",
              "      <th>item_id</th>\n",
              "      <th>recommend</th>\n",
              "      <th>sentiment_analysis</th>\n",
              "    </tr>\n",
              "  </thead>\n",
              "  <tbody>\n",
              "    <tr>\n",
              "      <th>6252</th>\n",
              "      <td>barbas1</td>\n",
              "      <td>26-10-2013</td>\n",
              "      <td>4000</td>\n",
              "      <td>True</td>\n",
              "      <td>2</td>\n",
              "    </tr>\n",
              "  </tbody>\n",
              "</table>\n",
              "</div>"
            ],
            "text/plain": [
              "      user_id      posted  item_id  recommend  sentiment_analysis\n",
              "6252  barbas1  26-10-2013     4000       True                   2"
            ]
          },
          "execution_count": 299,
          "metadata": {},
          "output_type": "execute_result"
        }
      ],
      "source": [
        "df_reviews_shuffled[df_reviews_shuffled['user_id'] == 'barbas1']"
      ]
    },
    {
      "cell_type": "code",
      "execution_count": 301,
      "metadata": {},
      "outputs": [
        {
          "data": {
            "text/html": [
              "<div>\n",
              "<style scoped>\n",
              "    .dataframe tbody tr th:only-of-type {\n",
              "        vertical-align: middle;\n",
              "    }\n",
              "\n",
              "    .dataframe tbody tr th {\n",
              "        vertical-align: top;\n",
              "    }\n",
              "\n",
              "    .dataframe thead th {\n",
              "        text-align: right;\n",
              "    }\n",
              "</style>\n",
              "<table border=\"1\" class=\"dataframe\">\n",
              "  <thead>\n",
              "    <tr style=\"text-align: right;\">\n",
              "      <th></th>\n",
              "      <th>genres</th>\n",
              "      <th>item_name</th>\n",
              "      <th>release_date</th>\n",
              "      <th>item_id</th>\n",
              "      <th>user_id</th>\n",
              "    </tr>\n",
              "  </thead>\n",
              "  <tbody>\n",
              "    <tr>\n",
              "      <th>46</th>\n",
              "      <td>['Indie' 'Simulation']</td>\n",
              "      <td>Garry's Mod</td>\n",
              "      <td>2006-11-29</td>\n",
              "      <td>4000</td>\n",
              "      <td>NaN</td>\n",
              "    </tr>\n",
              "  </tbody>\n",
              "</table>\n",
              "</div>"
            ],
            "text/plain": [
              "                    genres    item_name release_date  item_id  user_id\n",
              "46  ['Indie' 'Simulation']  Garry's Mod   2006-11-29     4000      NaN"
            ]
          },
          "execution_count": 301,
          "metadata": {},
          "output_type": "execute_result"
        }
      ],
      "source": [
        "df_steam[df_steam['item_id'] == 4000]"
      ]
    },
    {
      "cell_type": "code",
      "execution_count": 302,
      "metadata": {},
      "outputs": [],
      "source": [
        "# [440, 10680, 239220, 202170, 236370]"
      ]
    },
    {
      "cell_type": "code",
      "execution_count": 303,
      "metadata": {},
      "outputs": [
        {
          "data": {
            "text/html": [
              "<div>\n",
              "<style scoped>\n",
              "    .dataframe tbody tr th:only-of-type {\n",
              "        vertical-align: middle;\n",
              "    }\n",
              "\n",
              "    .dataframe tbody tr th {\n",
              "        vertical-align: top;\n",
              "    }\n",
              "\n",
              "    .dataframe thead th {\n",
              "        text-align: right;\n",
              "    }\n",
              "</style>\n",
              "<table border=\"1\" class=\"dataframe\">\n",
              "  <thead>\n",
              "    <tr style=\"text-align: right;\">\n",
              "      <th></th>\n",
              "      <th>genres</th>\n",
              "      <th>item_name</th>\n",
              "      <th>release_date</th>\n",
              "      <th>item_id</th>\n",
              "      <th>user_id</th>\n",
              "    </tr>\n",
              "  </thead>\n",
              "  <tbody>\n",
              "    <tr>\n",
              "      <th>28584</th>\n",
              "      <td>['Action' 'Free to Play']</td>\n",
              "      <td>Team Fortress 2</td>\n",
              "      <td>2007-10-10</td>\n",
              "      <td>440</td>\n",
              "      <td>NaN</td>\n",
              "    </tr>\n",
              "  </tbody>\n",
              "</table>\n",
              "</div>"
            ],
            "text/plain": [
              "                          genres        item_name release_date  item_id   \n",
              "28584  ['Action' 'Free to Play']  Team Fortress 2   2007-10-10      440  \\\n",
              "\n",
              "       user_id  \n",
              "28584      NaN  "
            ]
          },
          "execution_count": 303,
          "metadata": {},
          "output_type": "execute_result"
        }
      ],
      "source": [
        "df_steam[df_steam['item_id'] == 440]"
      ]
    },
    {
      "cell_type": "code",
      "execution_count": 304,
      "metadata": {},
      "outputs": [
        {
          "data": {
            "text/html": [
              "<div>\n",
              "<style scoped>\n",
              "    .dataframe tbody tr th:only-of-type {\n",
              "        vertical-align: middle;\n",
              "    }\n",
              "\n",
              "    .dataframe tbody tr th {\n",
              "        vertical-align: top;\n",
              "    }\n",
              "\n",
              "    .dataframe thead th {\n",
              "        text-align: right;\n",
              "    }\n",
              "</style>\n",
              "<table border=\"1\" class=\"dataframe\">\n",
              "  <thead>\n",
              "    <tr style=\"text-align: right;\">\n",
              "      <th></th>\n",
              "      <th>genres</th>\n",
              "      <th>item_name</th>\n",
              "      <th>release_date</th>\n",
              "      <th>item_id</th>\n",
              "      <th>user_id</th>\n",
              "    </tr>\n",
              "  </thead>\n",
              "  <tbody>\n",
              "    <tr>\n",
              "      <th>28249</th>\n",
              "      <td>['Action']</td>\n",
              "      <td>Aliens vs. Predator™</td>\n",
              "      <td>2010-02-16</td>\n",
              "      <td>10680</td>\n",
              "      <td>NaN</td>\n",
              "    </tr>\n",
              "  </tbody>\n",
              "</table>\n",
              "</div>"
            ],
            "text/plain": [
              "           genres             item_name release_date  item_id  user_id\n",
              "28249  ['Action']  Aliens vs. Predator™   2010-02-16    10680      NaN"
            ]
          },
          "execution_count": 304,
          "metadata": {},
          "output_type": "execute_result"
        }
      ],
      "source": [
        "df_steam[df_steam['item_id'] == 10680]"
      ]
    },
    {
      "cell_type": "code",
      "execution_count": 233,
      "metadata": {},
      "outputs": [
        {
          "data": {
            "text/html": [
              "<div>\n",
              "<style scoped>\n",
              "    .dataframe tbody tr th:only-of-type {\n",
              "        vertical-align: middle;\n",
              "    }\n",
              "\n",
              "    .dataframe tbody tr th {\n",
              "        vertical-align: top;\n",
              "    }\n",
              "\n",
              "    .dataframe thead th {\n",
              "        text-align: right;\n",
              "    }\n",
              "</style>\n",
              "<table border=\"1\" class=\"dataframe\">\n",
              "  <thead>\n",
              "    <tr style=\"text-align: right;\">\n",
              "      <th></th>\n",
              "      <th>genres</th>\n",
              "      <th>item_name</th>\n",
              "      <th>release_date</th>\n",
              "      <th>item_id</th>\n",
              "      <th>user_id</th>\n",
              "    </tr>\n",
              "  </thead>\n",
              "  <tbody>\n",
              "    <tr>\n",
              "      <th>26864</th>\n",
              "      <td>['Action' 'Indie' 'RPG' 'Simulation' 'Early Ac...</td>\n",
              "      <td>Interstellar Marines</td>\n",
              "      <td>2013-07-02</td>\n",
              "      <td>236370</td>\n",
              "      <td>NaN</td>\n",
              "    </tr>\n",
              "  </tbody>\n",
              "</table>\n",
              "</div>"
            ],
            "text/plain": [
              "                                                  genres   \n",
              "26864  ['Action' 'Indie' 'RPG' 'Simulation' 'Early Ac...  \\\n",
              "\n",
              "                  item_name release_date  item_id  user_id  \n",
              "26864  Interstellar Marines   2013-07-02   236370      NaN  "
            ]
          },
          "execution_count": 233,
          "metadata": {},
          "output_type": "execute_result"
        }
      ],
      "source": [
        "df_steam[df_steam['item_id'] == 236370]"
      ]
    },
    {
      "cell_type": "code",
      "execution_count": 305,
      "metadata": {},
      "outputs": [
        {
          "data": {
            "text/html": [
              "<div>\n",
              "<style scoped>\n",
              "    .dataframe tbody tr th:only-of-type {\n",
              "        vertical-align: middle;\n",
              "    }\n",
              "\n",
              "    .dataframe tbody tr th {\n",
              "        vertical-align: top;\n",
              "    }\n",
              "\n",
              "    .dataframe thead th {\n",
              "        text-align: right;\n",
              "    }\n",
              "</style>\n",
              "<table border=\"1\" class=\"dataframe\">\n",
              "  <thead>\n",
              "    <tr style=\"text-align: right;\">\n",
              "      <th></th>\n",
              "      <th>user_id</th>\n",
              "      <th>item_id</th>\n",
              "      <th>item_name</th>\n",
              "      <th>playtime_forever</th>\n",
              "    </tr>\n",
              "  </thead>\n",
              "  <tbody>\n",
              "  </tbody>\n",
              "</table>\n",
              "</div>"
            ],
            "text/plain": [
              "Empty DataFrame\n",
              "Columns: [user_id, item_id, item_name, playtime_forever]\n",
              "Index: []"
            ]
          },
          "execution_count": 305,
          "metadata": {},
          "output_type": "execute_result"
        }
      ],
      "source": [
        "df_items[df_items['item_id'] == 239220]"
      ]
    },
    {
      "cell_type": "code",
      "execution_count": 306,
      "metadata": {},
      "outputs": [
        {
          "data": {
            "text/html": [
              "<div>\n",
              "<style scoped>\n",
              "    .dataframe tbody tr th:only-of-type {\n",
              "        vertical-align: middle;\n",
              "    }\n",
              "\n",
              "    .dataframe tbody tr th {\n",
              "        vertical-align: top;\n",
              "    }\n",
              "\n",
              "    .dataframe thead th {\n",
              "        text-align: right;\n",
              "    }\n",
              "</style>\n",
              "<table border=\"1\" class=\"dataframe\">\n",
              "  <thead>\n",
              "    <tr style=\"text-align: right;\">\n",
              "      <th></th>\n",
              "      <th>genres</th>\n",
              "      <th>item_name</th>\n",
              "      <th>release_date</th>\n",
              "      <th>item_id</th>\n",
              "      <th>user_id</th>\n",
              "    </tr>\n",
              "  </thead>\n",
              "  <tbody>\n",
              "  </tbody>\n",
              "</table>\n",
              "</div>"
            ],
            "text/plain": [
              "Empty DataFrame\n",
              "Columns: [genres, item_name, release_date, item_id, user_id]\n",
              "Index: []"
            ]
          },
          "execution_count": 306,
          "metadata": {},
          "output_type": "execute_result"
        }
      ],
      "source": [
        "df_steam[df_steam['item_id'] == 239220]"
      ]
    },
    {
      "cell_type": "code",
      "execution_count": 307,
      "metadata": {},
      "outputs": [
        {
          "data": {
            "text/html": [
              "<div>\n",
              "<style scoped>\n",
              "    .dataframe tbody tr th:only-of-type {\n",
              "        vertical-align: middle;\n",
              "    }\n",
              "\n",
              "    .dataframe tbody tr th {\n",
              "        vertical-align: top;\n",
              "    }\n",
              "\n",
              "    .dataframe thead th {\n",
              "        text-align: right;\n",
              "    }\n",
              "</style>\n",
              "<table border=\"1\" class=\"dataframe\">\n",
              "  <thead>\n",
              "    <tr style=\"text-align: right;\">\n",
              "      <th></th>\n",
              "      <th>user_id</th>\n",
              "      <th>item_id</th>\n",
              "      <th>item_name</th>\n",
              "      <th>playtime_forever</th>\n",
              "    </tr>\n",
              "  </thead>\n",
              "  <tbody>\n",
              "  </tbody>\n",
              "</table>\n",
              "</div>"
            ],
            "text/plain": [
              "Empty DataFrame\n",
              "Columns: [user_id, item_id, item_name, playtime_forever]\n",
              "Index: []"
            ]
          },
          "execution_count": 307,
          "metadata": {},
          "output_type": "execute_result"
        }
      ],
      "source": [
        "df_items[df_items['item_id'] == 202170]"
      ]
    },
    {
      "cell_type": "code",
      "execution_count": 236,
      "metadata": {},
      "outputs": [
        {
          "data": {
            "text/html": [
              "<div>\n",
              "<style scoped>\n",
              "    .dataframe tbody tr th:only-of-type {\n",
              "        vertical-align: middle;\n",
              "    }\n",
              "\n",
              "    .dataframe tbody tr th {\n",
              "        vertical-align: top;\n",
              "    }\n",
              "\n",
              "    .dataframe thead th {\n",
              "        text-align: right;\n",
              "    }\n",
              "</style>\n",
              "<table border=\"1\" class=\"dataframe\">\n",
              "  <thead>\n",
              "    <tr style=\"text-align: right;\">\n",
              "      <th></th>\n",
              "      <th>genres</th>\n",
              "      <th>item_name</th>\n",
              "      <th>release_date</th>\n",
              "      <th>item_id</th>\n",
              "      <th>user_id</th>\n",
              "    </tr>\n",
              "  </thead>\n",
              "  <tbody>\n",
              "  </tbody>\n",
              "</table>\n",
              "</div>"
            ],
            "text/plain": [
              "Empty DataFrame\n",
              "Columns: [genres, item_name, release_date, item_id, user_id]\n",
              "Index: []"
            ]
          },
          "execution_count": 236,
          "metadata": {},
          "output_type": "execute_result"
        }
      ],
      "source": [
        "df_steam[df_steam['item_id'] == 202170]"
      ]
    },
    {
      "cell_type": "code",
      "execution_count": 308,
      "metadata": {},
      "outputs": [
        {
          "data": {
            "text/plain": [
              "[265630, 240, 8870, 227700, 570]"
            ]
          },
          "execution_count": 308,
          "metadata": {},
          "output_type": "execute_result"
        }
      ],
      "source": [
        "recomendacion_usuario('UniIsBestWaifu')"
      ]
    },
    {
      "cell_type": "code",
      "execution_count": 242,
      "metadata": {},
      "outputs": [
        {
          "data": {
            "text/html": [
              "<div>\n",
              "<style scoped>\n",
              "    .dataframe tbody tr th:only-of-type {\n",
              "        vertical-align: middle;\n",
              "    }\n",
              "\n",
              "    .dataframe tbody tr th {\n",
              "        vertical-align: top;\n",
              "    }\n",
              "\n",
              "    .dataframe thead th {\n",
              "        text-align: right;\n",
              "    }\n",
              "</style>\n",
              "<table border=\"1\" class=\"dataframe\">\n",
              "  <thead>\n",
              "    <tr style=\"text-align: right;\">\n",
              "      <th></th>\n",
              "      <th>user_id</th>\n",
              "      <th>posted</th>\n",
              "      <th>item_id</th>\n",
              "      <th>recommend</th>\n",
              "      <th>sentiment_analysis</th>\n",
              "    </tr>\n",
              "  </thead>\n",
              "  <tbody>\n",
              "    <tr>\n",
              "      <th>5733</th>\n",
              "      <td>UniIsBestWaifu</td>\n",
              "      <td>07-09-2015</td>\n",
              "      <td>17730</td>\n",
              "      <td>False</td>\n",
              "      <td>0</td>\n",
              "    </tr>\n",
              "    <tr>\n",
              "      <th>5734</th>\n",
              "      <td>UniIsBestWaifu</td>\n",
              "      <td>24-09-2015</td>\n",
              "      <td>333980</td>\n",
              "      <td>True</td>\n",
              "      <td>2</td>\n",
              "    </tr>\n",
              "  </tbody>\n",
              "</table>\n",
              "</div>"
            ],
            "text/plain": [
              "             user_id      posted  item_id  recommend  sentiment_analysis\n",
              "5733  UniIsBestWaifu  07-09-2015    17730      False                   0\n",
              "5734  UniIsBestWaifu  24-09-2015   333980       True                   2"
            ]
          },
          "execution_count": 242,
          "metadata": {},
          "output_type": "execute_result"
        }
      ],
      "source": [
        "df_reviews[df_reviews['user_id'] == 'UniIsBestWaifu']"
      ]
    },
    {
      "cell_type": "code",
      "execution_count": 249,
      "metadata": {},
      "outputs": [
        {
          "data": {
            "text/html": [
              "<div>\n",
              "<style scoped>\n",
              "    .dataframe tbody tr th:only-of-type {\n",
              "        vertical-align: middle;\n",
              "    }\n",
              "\n",
              "    .dataframe tbody tr th {\n",
              "        vertical-align: top;\n",
              "    }\n",
              "\n",
              "    .dataframe thead th {\n",
              "        text-align: right;\n",
              "    }\n",
              "</style>\n",
              "<table border=\"1\" class=\"dataframe\">\n",
              "  <thead>\n",
              "    <tr style=\"text-align: right;\">\n",
              "      <th></th>\n",
              "      <th>genres</th>\n",
              "      <th>item_name</th>\n",
              "      <th>release_date</th>\n",
              "      <th>item_id</th>\n",
              "      <th>user_id</th>\n",
              "    </tr>\n",
              "  </thead>\n",
              "  <tbody>\n",
              "    <tr>\n",
              "      <th>28398</th>\n",
              "      <td>['Sports' 'Action']</td>\n",
              "      <td>Smashball</td>\n",
              "      <td>Jun 2009</td>\n",
              "      <td>17730</td>\n",
              "      <td>NaN</td>\n",
              "    </tr>\n",
              "  </tbody>\n",
              "</table>\n",
              "</div>"
            ],
            "text/plain": [
              "                    genres  item_name release_date  item_id  user_id\n",
              "28398  ['Sports' 'Action']  Smashball     Jun 2009    17730      NaN"
            ]
          },
          "execution_count": 249,
          "metadata": {},
          "output_type": "execute_result"
        }
      ],
      "source": [
        "df_steam[df_steam['item_id'] == 17730]"
      ]
    },
    {
      "cell_type": "code",
      "execution_count": 247,
      "metadata": {},
      "outputs": [
        {
          "data": {
            "text/html": [
              "<div>\n",
              "<style scoped>\n",
              "    .dataframe tbody tr th:only-of-type {\n",
              "        vertical-align: middle;\n",
              "    }\n",
              "\n",
              "    .dataframe tbody tr th {\n",
              "        vertical-align: top;\n",
              "    }\n",
              "\n",
              "    .dataframe thead th {\n",
              "        text-align: right;\n",
              "    }\n",
              "</style>\n",
              "<table border=\"1\" class=\"dataframe\">\n",
              "  <thead>\n",
              "    <tr style=\"text-align: right;\">\n",
              "      <th></th>\n",
              "      <th>genres</th>\n",
              "      <th>item_name</th>\n",
              "      <th>release_date</th>\n",
              "      <th>item_id</th>\n",
              "      <th>user_id</th>\n",
              "    </tr>\n",
              "  </thead>\n",
              "  <tbody>\n",
              "    <tr>\n",
              "      <th>3644</th>\n",
              "      <td>['Action' 'Adventure' 'Casual' 'RPG']</td>\n",
              "      <td>AKIBA'S TRIP: Undead ＆ Undressed</td>\n",
              "      <td>2015-05-26</td>\n",
              "      <td>333980</td>\n",
              "      <td>NaN</td>\n",
              "    </tr>\n",
              "  </tbody>\n",
              "</table>\n",
              "</div>"
            ],
            "text/plain": [
              "                                     genres                         item_name   \n",
              "3644  ['Action' 'Adventure' 'Casual' 'RPG']  AKIBA'S TRIP: Undead ＆ Undressed  \\\n",
              "\n",
              "     release_date  item_id  user_id  \n",
              "3644   2015-05-26   333980      NaN  "
            ]
          },
          "execution_count": 247,
          "metadata": {},
          "output_type": "execute_result"
        }
      ],
      "source": [
        "df_steam[df_steam['item_id'] == 333980]"
      ]
    },
    {
      "cell_type": "code",
      "execution_count": 248,
      "metadata": {},
      "outputs": [
        {
          "data": {
            "text/html": [
              "<div>\n",
              "<style scoped>\n",
              "    .dataframe tbody tr th:only-of-type {\n",
              "        vertical-align: middle;\n",
              "    }\n",
              "\n",
              "    .dataframe tbody tr th {\n",
              "        vertical-align: top;\n",
              "    }\n",
              "\n",
              "    .dataframe thead th {\n",
              "        text-align: right;\n",
              "    }\n",
              "</style>\n",
              "<table border=\"1\" class=\"dataframe\">\n",
              "  <thead>\n",
              "    <tr style=\"text-align: right;\">\n",
              "      <th></th>\n",
              "      <th>user_id</th>\n",
              "      <th>posted</th>\n",
              "      <th>item_id</th>\n",
              "      <th>recommend</th>\n",
              "      <th>sentiment_analysis</th>\n",
              "    </tr>\n",
              "  </thead>\n",
              "  <tbody>\n",
              "    <tr>\n",
              "      <th>5733</th>\n",
              "      <td>UniIsBestWaifu</td>\n",
              "      <td>07-09-2015</td>\n",
              "      <td>17730</td>\n",
              "      <td>False</td>\n",
              "      <td>0</td>\n",
              "    </tr>\n",
              "    <tr>\n",
              "      <th>5734</th>\n",
              "      <td>UniIsBestWaifu</td>\n",
              "      <td>24-09-2015</td>\n",
              "      <td>333980</td>\n",
              "      <td>True</td>\n",
              "      <td>2</td>\n",
              "    </tr>\n",
              "  </tbody>\n",
              "</table>\n",
              "</div>"
            ],
            "text/plain": [
              "             user_id      posted  item_id  recommend  sentiment_analysis\n",
              "5733  UniIsBestWaifu  07-09-2015    17730      False                   0\n",
              "5734  UniIsBestWaifu  24-09-2015   333980       True                   2"
            ]
          },
          "execution_count": 248,
          "metadata": {},
          "output_type": "execute_result"
        }
      ],
      "source": [
        "df_reviews[df_reviews['user_id'] == 'UniIsBestWaifu']"
      ]
    },
    {
      "cell_type": "markdown",
      "metadata": {},
      "source": [
        "Vemos que no recomendo el primero pero si el segundo"
      ]
    },
    {
      "cell_type": "code",
      "execution_count": 309,
      "metadata": {},
      "outputs": [
        {
          "data": {
            "text/plain": [
              "[265630, 240, 8870, 227700, 570]"
            ]
          },
          "execution_count": 309,
          "metadata": {},
          "output_type": "execute_result"
        }
      ],
      "source": [
        "recomendacion_usuario('UniIsBestWaifu')"
      ]
    },
    {
      "cell_type": "code",
      "execution_count": 250,
      "metadata": {},
      "outputs": [
        {
          "data": {
            "text/html": [
              "<div>\n",
              "<style scoped>\n",
              "    .dataframe tbody tr th:only-of-type {\n",
              "        vertical-align: middle;\n",
              "    }\n",
              "\n",
              "    .dataframe tbody tr th {\n",
              "        vertical-align: top;\n",
              "    }\n",
              "\n",
              "    .dataframe thead th {\n",
              "        text-align: right;\n",
              "    }\n",
              "</style>\n",
              "<table border=\"1\" class=\"dataframe\">\n",
              "  <thead>\n",
              "    <tr style=\"text-align: right;\">\n",
              "      <th></th>\n",
              "      <th>genres</th>\n",
              "      <th>item_name</th>\n",
              "      <th>release_date</th>\n",
              "      <th>item_id</th>\n",
              "      <th>user_id</th>\n",
              "    </tr>\n",
              "  </thead>\n",
              "  <tbody>\n",
              "    <tr>\n",
              "      <th>28725</th>\n",
              "      <td>['Action']</td>\n",
              "      <td>Counter-Strike: Source</td>\n",
              "      <td>2004-11-01</td>\n",
              "      <td>240</td>\n",
              "      <td>NaN</td>\n",
              "    </tr>\n",
              "  </tbody>\n",
              "</table>\n",
              "</div>"
            ],
            "text/plain": [
              "           genres               item_name release_date  item_id  user_id\n",
              "28725  ['Action']  Counter-Strike: Source   2004-11-01      240      NaN"
            ]
          },
          "execution_count": 250,
          "metadata": {},
          "output_type": "execute_result"
        }
      ],
      "source": [
        "df_steam[df_steam['item_id'] == 240]"
      ]
    },
    {
      "cell_type": "code",
      "execution_count": 252,
      "metadata": {},
      "outputs": [
        {
          "data": {
            "text/html": [
              "<div>\n",
              "<style scoped>\n",
              "    .dataframe tbody tr th:only-of-type {\n",
              "        vertical-align: middle;\n",
              "    }\n",
              "\n",
              "    .dataframe tbody tr th {\n",
              "        vertical-align: top;\n",
              "    }\n",
              "\n",
              "    .dataframe thead th {\n",
              "        text-align: right;\n",
              "    }\n",
              "</style>\n",
              "<table border=\"1\" class=\"dataframe\">\n",
              "  <thead>\n",
              "    <tr style=\"text-align: right;\">\n",
              "      <th></th>\n",
              "      <th>genres</th>\n",
              "      <th>item_name</th>\n",
              "      <th>release_date</th>\n",
              "      <th>item_id</th>\n",
              "      <th>user_id</th>\n",
              "    </tr>\n",
              "  </thead>\n",
              "  <tbody>\n",
              "    <tr>\n",
              "      <th>27034</th>\n",
              "      <td>['Action']</td>\n",
              "      <td>BioShock Infinite</td>\n",
              "      <td>2013-03-25</td>\n",
              "      <td>8870</td>\n",
              "      <td>NaN</td>\n",
              "    </tr>\n",
              "  </tbody>\n",
              "</table>\n",
              "</div>"
            ],
            "text/plain": [
              "           genres          item_name release_date  item_id  user_id\n",
              "27034  ['Action']  BioShock Infinite   2013-03-25     8870      NaN"
            ]
          },
          "execution_count": 252,
          "metadata": {},
          "output_type": "execute_result"
        }
      ],
      "source": [
        "df_steam[df_steam['item_id'] == 8870]"
      ]
    },
    {
      "cell_type": "code",
      "execution_count": 254,
      "metadata": {},
      "outputs": [
        {
          "data": {
            "text/html": [
              "<div>\n",
              "<style scoped>\n",
              "    .dataframe tbody tr th:only-of-type {\n",
              "        vertical-align: middle;\n",
              "    }\n",
              "\n",
              "    .dataframe tbody tr th {\n",
              "        vertical-align: top;\n",
              "    }\n",
              "\n",
              "    .dataframe thead th {\n",
              "        text-align: right;\n",
              "    }\n",
              "</style>\n",
              "<table border=\"1\" class=\"dataframe\">\n",
              "  <thead>\n",
              "    <tr style=\"text-align: right;\">\n",
              "      <th></th>\n",
              "      <th>user_id</th>\n",
              "      <th>item_id</th>\n",
              "      <th>item_name</th>\n",
              "      <th>playtime_forever</th>\n",
              "    </tr>\n",
              "  </thead>\n",
              "  <tbody>\n",
              "  </tbody>\n",
              "</table>\n",
              "</div>"
            ],
            "text/plain": [
              "Empty DataFrame\n",
              "Columns: [user_id, item_id, item_name, playtime_forever]\n",
              "Index: []"
            ]
          },
          "execution_count": 254,
          "metadata": {},
          "output_type": "execute_result"
        }
      ],
      "source": [
        "df_items[df_items['item_id'] == 570]"
      ]
    },
    {
      "cell_type": "code",
      "execution_count": 310,
      "metadata": {},
      "outputs": [
        {
          "data": {
            "text/html": [
              "<div>\n",
              "<style scoped>\n",
              "    .dataframe tbody tr th:only-of-type {\n",
              "        vertical-align: middle;\n",
              "    }\n",
              "\n",
              "    .dataframe tbody tr th {\n",
              "        vertical-align: top;\n",
              "    }\n",
              "\n",
              "    .dataframe thead th {\n",
              "        text-align: right;\n",
              "    }\n",
              "</style>\n",
              "<table border=\"1\" class=\"dataframe\">\n",
              "  <thead>\n",
              "    <tr style=\"text-align: right;\">\n",
              "      <th></th>\n",
              "      <th>genres</th>\n",
              "      <th>item_name</th>\n",
              "      <th>release_date</th>\n",
              "      <th>item_id</th>\n",
              "      <th>user_id</th>\n",
              "    </tr>\n",
              "  </thead>\n",
              "  <tbody>\n",
              "  </tbody>\n",
              "</table>\n",
              "</div>"
            ],
            "text/plain": [
              "Empty DataFrame\n",
              "Columns: [genres, item_name, release_date, item_id, user_id]\n",
              "Index: []"
            ]
          },
          "execution_count": 310,
          "metadata": {},
          "output_type": "execute_result"
        }
      ],
      "source": [
        "df_steam[df_steam['item_id'] == 570]"
      ]
    },
    {
      "cell_type": "code",
      "execution_count": 255,
      "metadata": {},
      "outputs": [
        {
          "data": {
            "text/html": [
              "<div>\n",
              "<style scoped>\n",
              "    .dataframe tbody tr th:only-of-type {\n",
              "        vertical-align: middle;\n",
              "    }\n",
              "\n",
              "    .dataframe tbody tr th {\n",
              "        vertical-align: top;\n",
              "    }\n",
              "\n",
              "    .dataframe thead th {\n",
              "        text-align: right;\n",
              "    }\n",
              "</style>\n",
              "<table border=\"1\" class=\"dataframe\">\n",
              "  <thead>\n",
              "    <tr style=\"text-align: right;\">\n",
              "      <th></th>\n",
              "      <th>user_id</th>\n",
              "      <th>item_id</th>\n",
              "      <th>item_name</th>\n",
              "      <th>playtime_forever</th>\n",
              "    </tr>\n",
              "  </thead>\n",
              "  <tbody>\n",
              "  </tbody>\n",
              "</table>\n",
              "</div>"
            ],
            "text/plain": [
              "Empty DataFrame\n",
              "Columns: [user_id, item_id, item_name, playtime_forever]\n",
              "Index: []"
            ]
          },
          "execution_count": 255,
          "metadata": {},
          "output_type": "execute_result"
        }
      ],
      "source": [
        "df_items[df_items['item_id'] == 265630]"
      ]
    },
    {
      "cell_type": "code",
      "execution_count": 256,
      "metadata": {},
      "outputs": [
        {
          "data": {
            "text/html": [
              "<div>\n",
              "<style scoped>\n",
              "    .dataframe tbody tr th:only-of-type {\n",
              "        vertical-align: middle;\n",
              "    }\n",
              "\n",
              "    .dataframe tbody tr th {\n",
              "        vertical-align: top;\n",
              "    }\n",
              "\n",
              "    .dataframe thead th {\n",
              "        text-align: right;\n",
              "    }\n",
              "</style>\n",
              "<table border=\"1\" class=\"dataframe\">\n",
              "  <thead>\n",
              "    <tr style=\"text-align: right;\">\n",
              "      <th></th>\n",
              "      <th>genres</th>\n",
              "      <th>item_name</th>\n",
              "      <th>release_date</th>\n",
              "      <th>item_id</th>\n",
              "      <th>user_id</th>\n",
              "    </tr>\n",
              "  </thead>\n",
              "  <tbody>\n",
              "    <tr>\n",
              "      <th>2095</th>\n",
              "      <td>['Action' 'Free to Play' 'Indie']</td>\n",
              "      <td>Fistful of Frags</td>\n",
              "      <td>2014-05-09</td>\n",
              "      <td>265630</td>\n",
              "      <td>NaN</td>\n",
              "    </tr>\n",
              "  </tbody>\n",
              "</table>\n",
              "</div>"
            ],
            "text/plain": [
              "                                 genres         item_name release_date   \n",
              "2095  ['Action' 'Free to Play' 'Indie']  Fistful of Frags   2014-05-09  \\\n",
              "\n",
              "      item_id  user_id  \n",
              "2095   265630      NaN  "
            ]
          },
          "execution_count": 256,
          "metadata": {},
          "output_type": "execute_result"
        }
      ],
      "source": [
        "df_steam[df_steam['item_id'] == 265630]"
      ]
    },
    {
      "cell_type": "code",
      "execution_count": 257,
      "metadata": {},
      "outputs": [
        {
          "data": {
            "text/html": [
              "<div>\n",
              "<style scoped>\n",
              "    .dataframe tbody tr th:only-of-type {\n",
              "        vertical-align: middle;\n",
              "    }\n",
              "\n",
              "    .dataframe tbody tr th {\n",
              "        vertical-align: top;\n",
              "    }\n",
              "\n",
              "    .dataframe thead th {\n",
              "        text-align: right;\n",
              "    }\n",
              "</style>\n",
              "<table border=\"1\" class=\"dataframe\">\n",
              "  <thead>\n",
              "    <tr style=\"text-align: right;\">\n",
              "      <th></th>\n",
              "      <th>genres</th>\n",
              "      <th>item_name</th>\n",
              "      <th>release_date</th>\n",
              "      <th>item_id</th>\n",
              "      <th>user_id</th>\n",
              "    </tr>\n",
              "  </thead>\n",
              "  <tbody>\n",
              "  </tbody>\n",
              "</table>\n",
              "</div>"
            ],
            "text/plain": [
              "Empty DataFrame\n",
              "Columns: [genres, item_name, release_date, item_id, user_id]\n",
              "Index: []"
            ]
          },
          "execution_count": 257,
          "metadata": {},
          "output_type": "execute_result"
        }
      ],
      "source": [
        "df_steam[df_steam['item_id'] == 227700]"
      ]
    },
    {
      "cell_type": "code",
      "execution_count": null,
      "metadata": {},
      "outputs": [],
      "source": []
    }
  ],
  "metadata": {
    "colab": {
      "provenance": []
    },
    "kernelspec": {
      "display_name": "Python 3",
      "name": "python3"
    },
    "language_info": {
      "codemirror_mode": {
        "name": "ipython",
        "version": 3
      },
      "file_extension": ".py",
      "mimetype": "text/x-python",
      "name": "python",
      "nbconvert_exporter": "python",
      "pygments_lexer": "ipython3",
      "version": "3.11.3"
    }
  },
  "nbformat": 4,
  "nbformat_minor": 0
}
